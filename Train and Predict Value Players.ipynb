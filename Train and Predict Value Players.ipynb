{
 "cells": [
  {
   "cell_type": "markdown",
   "metadata": {},
   "source": [
    "# Dự đoán giá trị cầu thủ bằng thuật toán XGBoost\n",
    "\n",
    "---\n",
    "## Import các thư viện cần thiết"
   ]
  },
  {
   "cell_type": "code",
   "execution_count": 1,
   "metadata": {},
   "outputs": [],
   "source": [
    "import numpy as np\n",
    "import pandas as pd\n",
    "%matplotlib inline\n",
    "import matplotlib.pyplot as plt\n",
    "import re"
   ]
  },
  {
   "cell_type": "code",
   "execution_count": 2,
   "metadata": {},
   "outputs": [
    {
     "name": "stdout",
     "output_type": "stream",
     "text": [
      "sklearn version: 0.20.1\n",
      "xgboost version: 0.81\n"
     ]
    }
   ],
   "source": [
    "import xgboost as xgb\n",
    "import sklearn\n",
    "print('sklearn version: %s' % sklearn.__version__)\n",
    "print('xgboost version: %s' % xgb.__version__)"
   ]
  },
  {
   "cell_type": "code",
   "execution_count": 3,
   "metadata": {},
   "outputs": [],
   "source": [
    "from sklearn.model_selection import train_test_split\n",
    "from sklearn.pipeline import Pipeline\n",
    "from sklearn.preprocessing import StandardScaler\n",
    "from sklearn.metrics import mean_squared_error\n",
    "from sklearn.model_selection import KFold\n",
    "from sklearn.model_selection import GridSearchCV\n"
   ]
  },
  {
   "cell_type": "markdown",
   "metadata": {},
   "source": [
    "---\n",
    "## Đọc file từ csv"
   ]
  },
  {
   "cell_type": "code",
   "execution_count": 4,
   "metadata": {
    "scrolled": true
   },
   "outputs": [
    {
     "data": {
      "text/html": [
       "<div>\n",
       "<style scoped>\n",
       "    .dataframe tbody tr th:only-of-type {\n",
       "        vertical-align: middle;\n",
       "    }\n",
       "\n",
       "    .dataframe tbody tr th {\n",
       "        vertical-align: top;\n",
       "    }\n",
       "\n",
       "    .dataframe thead th {\n",
       "        text-align: right;\n",
       "    }\n",
       "</style>\n",
       "<table border=\"1\" class=\"dataframe\">\n",
       "  <thead>\n",
       "    <tr style=\"text-align: right;\">\n",
       "      <th></th>\n",
       "      <th>Name</th>\n",
       "      <th>Position</th>\n",
       "      <th>Overall</th>\n",
       "      <th>Potential</th>\n",
       "      <th>BS</th>\n",
       "      <th>IR</th>\n",
       "      <th>PAC</th>\n",
       "      <th>SHO</th>\n",
       "      <th>PAS</th>\n",
       "      <th>DRI</th>\n",
       "      <th>DEF</th>\n",
       "      <th>PHY</th>\n",
       "      <th>Value</th>\n",
       "      <th>Wage</th>\n",
       "      <th>TotalStats</th>\n",
       "    </tr>\n",
       "    <tr>\n",
       "      <th>ID</th>\n",
       "      <th></th>\n",
       "      <th></th>\n",
       "      <th></th>\n",
       "      <th></th>\n",
       "      <th></th>\n",
       "      <th></th>\n",
       "      <th></th>\n",
       "      <th></th>\n",
       "      <th></th>\n",
       "      <th></th>\n",
       "      <th></th>\n",
       "      <th></th>\n",
       "      <th></th>\n",
       "      <th></th>\n",
       "      <th></th>\n",
       "    </tr>\n",
       "  </thead>\n",
       "  <tbody>\n",
       "    <tr>\n",
       "      <th>158023</th>\n",
       "      <td>L. Messi</td>\n",
       "      <td>CF RW ST</td>\n",
       "      <td>94</td>\n",
       "      <td>94</td>\n",
       "      <td>458</td>\n",
       "      <td>5</td>\n",
       "      <td>88</td>\n",
       "      <td>91</td>\n",
       "      <td>90</td>\n",
       "      <td>96</td>\n",
       "      <td>32</td>\n",
       "      <td>61</td>\n",
       "      <td>€110.5M</td>\n",
       "      <td>€565K</td>\n",
       "      <td>2202</td>\n",
       "    </tr>\n",
       "    <tr>\n",
       "      <th>20801</th>\n",
       "      <td>Cristiano Ronaldo</td>\n",
       "      <td>ST LW</td>\n",
       "      <td>94</td>\n",
       "      <td>94</td>\n",
       "      <td>467</td>\n",
       "      <td>5</td>\n",
       "      <td>90</td>\n",
       "      <td>93</td>\n",
       "      <td>81</td>\n",
       "      <td>89</td>\n",
       "      <td>35</td>\n",
       "      <td>79</td>\n",
       "      <td>€77M</td>\n",
       "      <td>€405K</td>\n",
       "      <td>2228</td>\n",
       "    </tr>\n",
       "    <tr>\n",
       "      <th>190871</th>\n",
       "      <td>Neymar Jr</td>\n",
       "      <td>LW CAM</td>\n",
       "      <td>92</td>\n",
       "      <td>93</td>\n",
       "      <td>445</td>\n",
       "      <td>5</td>\n",
       "      <td>92</td>\n",
       "      <td>84</td>\n",
       "      <td>83</td>\n",
       "      <td>95</td>\n",
       "      <td>32</td>\n",
       "      <td>59</td>\n",
       "      <td>€118.5M</td>\n",
       "      <td>€290K</td>\n",
       "      <td>2143</td>\n",
       "    </tr>\n",
       "    <tr>\n",
       "      <th>193080</th>\n",
       "      <td>De Gea</td>\n",
       "      <td>GK</td>\n",
       "      <td>91</td>\n",
       "      <td>93</td>\n",
       "      <td>501</td>\n",
       "      <td>4</td>\n",
       "      <td>90</td>\n",
       "      <td>85</td>\n",
       "      <td>86</td>\n",
       "      <td>94</td>\n",
       "      <td>58</td>\n",
       "      <td>88</td>\n",
       "      <td>€72M</td>\n",
       "      <td>€260K</td>\n",
       "      <td>1470</td>\n",
       "    </tr>\n",
       "    <tr>\n",
       "      <th>192985</th>\n",
       "      <td>K. De Bruyne</td>\n",
       "      <td>CAM CM</td>\n",
       "      <td>91</td>\n",
       "      <td>92</td>\n",
       "      <td>481</td>\n",
       "      <td>4</td>\n",
       "      <td>77</td>\n",
       "      <td>86</td>\n",
       "      <td>92</td>\n",
       "      <td>87</td>\n",
       "      <td>61</td>\n",
       "      <td>78</td>\n",
       "      <td>€102M</td>\n",
       "      <td>€355K</td>\n",
       "      <td>2281</td>\n",
       "    </tr>\n",
       "  </tbody>\n",
       "</table>\n",
       "</div>"
      ],
      "text/plain": [
       "                     Name  Position  Overall  Potential   BS  IR  PAC  SHO  \\\n",
       "ID                                                                           \n",
       "158023           L. Messi  CF RW ST       94         94  458   5   88   91   \n",
       "20801   Cristiano Ronaldo     ST LW       94         94  467   5   90   93   \n",
       "190871          Neymar Jr    LW CAM       92         93  445   5   92   84   \n",
       "193080             De Gea        GK       91         93  501   4   90   85   \n",
       "192985       K. De Bruyne    CAM CM       91         92  481   4   77   86   \n",
       "\n",
       "        PAS  DRI  DEF  PHY    Value   Wage  TotalStats  \n",
       "ID                                                      \n",
       "158023   90   96   32   61  €110.5M  €565K        2202  \n",
       "20801    81   89   35   79     €77M  €405K        2228  \n",
       "190871   83   95   32   59  €118.5M  €290K        2143  \n",
       "193080   86   94   58   88     €72M  €260K        1470  \n",
       "192985   92   87   61   78    €102M  €355K        2281  "
      ]
     },
     "execution_count": 4,
     "metadata": {},
     "output_type": "execute_result"
    }
   ],
   "source": [
    "df=pd.read_csv(\"./data_100_page.csv\")\n",
    "df.set_index('ID', inplace=True)\n",
    "df=df.drop(['Unnamed: 0'], axis=1)\n",
    "df.head()"
   ]
  },
  {
   "cell_type": "code",
   "execution_count": 5,
   "metadata": {
    "scrolled": true
   },
   "outputs": [
    {
     "data": {
      "text/html": [
       "<div>\n",
       "<style scoped>\n",
       "    .dataframe tbody tr th:only-of-type {\n",
       "        vertical-align: middle;\n",
       "    }\n",
       "\n",
       "    .dataframe tbody tr th {\n",
       "        vertical-align: top;\n",
       "    }\n",
       "\n",
       "    .dataframe thead th {\n",
       "        text-align: right;\n",
       "    }\n",
       "</style>\n",
       "<table border=\"1\" class=\"dataframe\">\n",
       "  <thead>\n",
       "    <tr style=\"text-align: right;\">\n",
       "      <th></th>\n",
       "      <th>Overall</th>\n",
       "      <th>Potential</th>\n",
       "      <th>BS</th>\n",
       "      <th>IR</th>\n",
       "      <th>PAC</th>\n",
       "      <th>SHO</th>\n",
       "      <th>PAS</th>\n",
       "      <th>DRI</th>\n",
       "      <th>DEF</th>\n",
       "      <th>PHY</th>\n",
       "      <th>TotalStats</th>\n",
       "    </tr>\n",
       "  </thead>\n",
       "  <tbody>\n",
       "    <tr>\n",
       "      <th>count</th>\n",
       "      <td>5945.000000</td>\n",
       "      <td>5945.000000</td>\n",
       "      <td>5945.000000</td>\n",
       "      <td>5945.000000</td>\n",
       "      <td>5945.000000</td>\n",
       "      <td>5945.00000</td>\n",
       "      <td>5945.000000</td>\n",
       "      <td>5945.000000</td>\n",
       "      <td>5945.000000</td>\n",
       "      <td>5945.000000</td>\n",
       "      <td>5945.000000</td>\n",
       "    </tr>\n",
       "    <tr>\n",
       "      <th>mean</th>\n",
       "      <td>73.791421</td>\n",
       "      <td>76.240538</td>\n",
       "      <td>392.201009</td>\n",
       "      <td>1.326661</td>\n",
       "      <td>70.247435</td>\n",
       "      <td>60.78032</td>\n",
       "      <td>65.204037</td>\n",
       "      <td>69.569554</td>\n",
       "      <td>56.278217</td>\n",
       "      <td>70.121447</td>\n",
       "      <td>1776.731539</td>\n",
       "    </tr>\n",
       "    <tr>\n",
       "      <th>std</th>\n",
       "      <td>3.889311</td>\n",
       "      <td>4.849970</td>\n",
       "      <td>30.927679</td>\n",
       "      <td>0.620915</td>\n",
       "      <td>11.806018</td>\n",
       "      <td>13.55088</td>\n",
       "      <td>8.861119</td>\n",
       "      <td>9.265229</td>\n",
       "      <td>17.209392</td>\n",
       "      <td>8.092005</td>\n",
       "      <td>241.937618</td>\n",
       "    </tr>\n",
       "    <tr>\n",
       "      <th>min</th>\n",
       "      <td>69.000000</td>\n",
       "      <td>69.000000</td>\n",
       "      <td>274.000000</td>\n",
       "      <td>1.000000</td>\n",
       "      <td>29.000000</td>\n",
       "      <td>15.00000</td>\n",
       "      <td>32.000000</td>\n",
       "      <td>32.000000</td>\n",
       "      <td>16.000000</td>\n",
       "      <td>34.000000</td>\n",
       "      <td>918.000000</td>\n",
       "    </tr>\n",
       "    <tr>\n",
       "      <th>25%</th>\n",
       "      <td>71.000000</td>\n",
       "      <td>72.000000</td>\n",
       "      <td>374.000000</td>\n",
       "      <td>1.000000</td>\n",
       "      <td>64.000000</td>\n",
       "      <td>52.00000</td>\n",
       "      <td>60.000000</td>\n",
       "      <td>66.000000</td>\n",
       "      <td>40.000000</td>\n",
       "      <td>66.000000</td>\n",
       "      <td>1698.000000</td>\n",
       "    </tr>\n",
       "    <tr>\n",
       "      <th>50%</th>\n",
       "      <td>73.000000</td>\n",
       "      <td>75.000000</td>\n",
       "      <td>394.000000</td>\n",
       "      <td>1.000000</td>\n",
       "      <td>72.000000</td>\n",
       "      <td>65.00000</td>\n",
       "      <td>66.000000</td>\n",
       "      <td>71.000000</td>\n",
       "      <td>63.000000</td>\n",
       "      <td>71.000000</td>\n",
       "      <td>1827.000000</td>\n",
       "    </tr>\n",
       "    <tr>\n",
       "      <th>75%</th>\n",
       "      <td>76.000000</td>\n",
       "      <td>79.000000</td>\n",
       "      <td>412.000000</td>\n",
       "      <td>2.000000</td>\n",
       "      <td>78.000000</td>\n",
       "      <td>70.00000</td>\n",
       "      <td>71.000000</td>\n",
       "      <td>75.000000</td>\n",
       "      <td>71.000000</td>\n",
       "      <td>76.000000</td>\n",
       "      <td>1931.000000</td>\n",
       "    </tr>\n",
       "    <tr>\n",
       "      <th>max</th>\n",
       "      <td>94.000000</td>\n",
       "      <td>95.000000</td>\n",
       "      <td>501.000000</td>\n",
       "      <td>5.000000</td>\n",
       "      <td>96.000000</td>\n",
       "      <td>93.00000</td>\n",
       "      <td>92.000000</td>\n",
       "      <td>96.000000</td>\n",
       "      <td>91.000000</td>\n",
       "      <td>90.000000</td>\n",
       "      <td>2346.000000</td>\n",
       "    </tr>\n",
       "  </tbody>\n",
       "</table>\n",
       "</div>"
      ],
      "text/plain": [
       "           Overall    Potential           BS           IR          PAC  \\\n",
       "count  5945.000000  5945.000000  5945.000000  5945.000000  5945.000000   \n",
       "mean     73.791421    76.240538   392.201009     1.326661    70.247435   \n",
       "std       3.889311     4.849970    30.927679     0.620915    11.806018   \n",
       "min      69.000000    69.000000   274.000000     1.000000    29.000000   \n",
       "25%      71.000000    72.000000   374.000000     1.000000    64.000000   \n",
       "50%      73.000000    75.000000   394.000000     1.000000    72.000000   \n",
       "75%      76.000000    79.000000   412.000000     2.000000    78.000000   \n",
       "max      94.000000    95.000000   501.000000     5.000000    96.000000   \n",
       "\n",
       "              SHO          PAS          DRI          DEF          PHY  \\\n",
       "count  5945.00000  5945.000000  5945.000000  5945.000000  5945.000000   \n",
       "mean     60.78032    65.204037    69.569554    56.278217    70.121447   \n",
       "std      13.55088     8.861119     9.265229    17.209392     8.092005   \n",
       "min      15.00000    32.000000    32.000000    16.000000    34.000000   \n",
       "25%      52.00000    60.000000    66.000000    40.000000    66.000000   \n",
       "50%      65.00000    66.000000    71.000000    63.000000    71.000000   \n",
       "75%      70.00000    71.000000    75.000000    71.000000    76.000000   \n",
       "max      93.00000    92.000000    96.000000    91.000000    90.000000   \n",
       "\n",
       "        TotalStats  \n",
       "count  5945.000000  \n",
       "mean   1776.731539  \n",
       "std     241.937618  \n",
       "min     918.000000  \n",
       "25%    1698.000000  \n",
       "50%    1827.000000  \n",
       "75%    1931.000000  \n",
       "max    2346.000000  "
      ]
     },
     "execution_count": 5,
     "metadata": {},
     "output_type": "execute_result"
    }
   ],
   "source": [
    "df.describe()"
   ]
  },
  {
   "cell_type": "markdown",
   "metadata": {},
   "source": [
    "---\n",
    "## Giải thích các thuộc tính của cầu thủ\n",
    "\n",
    "Mỗi cầu thủ trong game sẽ có 34 thuộc tính chi tiết như sau:\n",
    "![title](./29attributes.png)\n",
    "Trong game fifa mỗi cầu thủ sẽ có 1 card riêng của mình, các thuộc tính của card này được tổng hợp lại từ các thuộc tính trên, ví dụ:\n",
    "![title](./card.png)\n",
    " \n",
    "\n",
    "Mỗi card cầu thủ (trừ thủ môn) trong game có 6 thuộc tính: PAC, SHO, PAS, DRI, DEF, PHY\n",
    "Trong đó:  \n",
    " - PAC: Pace \n",
    " - SHO: Shooting\n",
    " - PAS: Passing \n",
    " - DRI: Dribbling \n",
    " - DEF: Defending\n",
    " - PHY: Physicality\n",
    "\n",
    " \n",
    "Trong game mỗi thuộc tính của card phụ thuộc vào 29 thuộc tính con theo hình sau:\n",
    "![title](./attributes1.png)\n",
    "![title](./attributes2.png) \n",
    " (trích từ page: https://www.futbin.com/stats-calculator)\n",
    "Còn đối với thủ môn sẽ có 6 thuộc tính riêng: DIV(GK Diving), HAN(GK Handling), KIC(GK Kicking), REF(GK Reflexes), SPD(Speed =PAC), POS(GK Positioning). Các chỉ số này của thủ môn đã có sẳn nên không cần tính.\n",
    "\n",
    "6 thuộc tính này được lấy để đại diện cho 34 thuộc tính còn lại (ngoại trừ thủ môn) hoặc 6 thuộc tính có sẳn của thủ môn. Do đó không lấy 34 thuộc tính này để train mà lấy trực tiếp 6 thuộc tính web cung cấp luôn.\n",
    "Lấy trung vị của 6 thuộc tính này để cho ra 1 feature là MedianMainStats. Lý do lấy trung vị là vì các chỉ số của cầu thủ thường là khoảng 3-4 thuộc tính trong 6 thuộc tính. Chẳng hạn tiền đạo sẽ có các chỉ số nghiêng về tấn công(khoảng 3-4 chỉ số) và yếu các chỉ số về phòng thủ(khoảng 2-3 chỉ số), do đó việc lấy trung vị đặc trưng cho chỉ số mặc bằng chung của cầu thủ đó.\n",
    "\n",
    "\n",
    "Ngoài ra cầu thủ sẽ có 1 số thuộc tính khác như: \n",
    " - Overall: Chỉ số chung toàn cục của cầu thủ, được tính theo 1 công thức nào đó của game từ 34 chỉ số trên.\n",
    " - Potential: Chỉ số chung tiềm năng của cầu thủ, khá giống overall nhưng thường cao hơn 1 xíu.\n",
    " - BS: Basic stats: Tổng số chỉ số của 6 chỉ số chung của thẻ cầu thủ.\n",
    " - IR: International reputation: Uy tín của cầu thủ, có giá trị thuộc {1, 2, 3, 4, 5}\n",
    " - ...."
   ]
  },
  {
   "cell_type": "markdown",
   "metadata": {},
   "source": [
    "---\n",
    "## Chia tập train và test theo tỉ lệ 80%:20%"
   ]
  },
  {
   "cell_type": "code",
   "execution_count": 6,
   "metadata": {},
   "outputs": [],
   "source": [
    "# Tách X và y\n",
    "y_sr = df[\"Value\"]\n",
    "X_df = df.drop(\"Value\", axis=1)"
   ]
  },
  {
   "cell_type": "code",
   "execution_count": 7,
   "metadata": {},
   "outputs": [],
   "source": [
    "# Tách tập train và tập test theo tỉ lệ 80%:20%\n",
    "train_X_df, test_X_df, train_y_sr, test_y_sr = train_test_split(X_df, y_sr, test_size=0.2, random_state=1997)"
   ]
  },
  {
   "cell_type": "markdown",
   "metadata": {},
   "source": [
    "---\n",
    "## Feature extractor\n",
    "Các feature là:\n",
    " - NumAttack: Số vị trí liên quan đến tấn công, gồm: LS, ST, RS, LW,LF,CF,RF,RW\n",
    " - NumMed: Số vị trí nằm ở phần giữa sân, gồm: LAM, CAM, RAM, LM, LCM, CM,RCM, RM \n",
    " - NumDeffend: Số vị trí liên quan đến phòng thủ, gồm: LWB, LDM,CDM, RDM,RWB, LB, LCB, CB, RCB, RB\n",
    " - NumGK: Số vị trí cho thủ môn, giá trị thuộc {0,1}\n",
    " - Overall: Chỉ số chung toàn cục của cầu thủ\n",
    " - Potential: Chỉ số chung tiềm  năng của cầu thủ\n",
    " - MedianMainStats: Trung vị của 6 chỉ số chung của thẻ cầu thủ\n",
    " - BS: Basic stats: Tổng số chỉ số của 6 chỉ số chung của thẻ cầu thủ.\n",
    " - IR: International reputation: Uy tín của cầu thủ, có giá trị thuộc {1, 2, 3, 4, 5}"
   ]
  },
  {
   "cell_type": "code",
   "execution_count": 8,
   "metadata": {},
   "outputs": [
    {
     "name": "stdout",
     "output_type": "stream",
     "text": [
      "Cac feature duoc chon la:\n",
      " ['NumAttack', 'NumMed', 'NumDeffend', 'Overall', 'Potential', 'MedianMainStats', 'IR', 'TotalStats']\n"
     ]
    }
   ],
   "source": [
    "features_name=['NumAttack', 'NumMed', 'NumDeffend', 'Overall','Potential','MedianMainStats','IR','TotalStats']\n",
    "print(\"Cac feature duoc chon la:\\n\", features_name)"
   ]
  },
  {
   "cell_type": "markdown",
   "metadata": {},
   "source": [
    "---\n",
    "## Làm sạch dữ liệu"
   ]
  },
  {
   "cell_type": "code",
   "execution_count": 9,
   "metadata": {
    "scrolled": true
   },
   "outputs": [],
   "source": [
    "def getNumPositions(X): #Đếm số vị trí chơi tốt của mỗi cầu thủ\n",
    "    X['NumAttack']=X['Position'].apply(lambda x: \n",
    "                                       np.sum([y in ['LS', 'ST', 'RS', 'LW','LF','CF','RF','RW'] \n",
    "                                              for y in re.findall('([a-zA-z ]+)',x)[0].split()]))\n",
    "    X['NumMed']=X['Position'].apply(lambda x: \n",
    "                                       np.sum([y in ['LAM', 'CAM', 'RAM', 'LM', 'LCM', 'CM','RCM', 'RM'] \n",
    "                                              for y in re.findall('([a-zA-z ]+)',x)[0].split()]))\n",
    "    X['NumDeffend']=X['Position'].apply(lambda x:\n",
    "                                       np.sum([y in ['LWB', 'LDM', 'CDM', 'RDM', 'RWB', 'LB', 'LCB', 'CB', 'RCB', 'RB'] \n",
    "                                              for y in re.findall('([a-zA-z ]+)',x)[0].split()]))\n",
    "    X['NumGK']=X['Position'].apply(lambda x:\n",
    "                                       np.sum([y in ['GK'] \n",
    "                                              for y in re.findall('([a-zA-z ]+)',x)[0].split()]))\n",
    "    return X\n",
    "\n",
    "def getMedianMainStats(X): # lấy trung vị của 6 thuộc tính\n",
    "    X['MedianMainStats']=X[['PAC','SHO','PAS','DRI','DEF','PHY']].apply(lambda row: np.median(row),axis=1)\n",
    "    return X\n",
    "\n",
    "def getAllFeature(X): # lấy tất cả các feature cần thiết\n",
    "    X=X.copy()\n",
    "    X=getNumPositions(X)\n",
    "    X=getMedianMainStats(X)\n",
    "    return X[features_name]"
   ]
  },
  {
   "cell_type": "code",
   "execution_count": 10,
   "metadata": {},
   "outputs": [],
   "source": [
    "from sklearn.base import BaseEstimator, TransformerMixin\n",
    "# class FeatureExtracter(BaseEstimator, TransformerMixin):\n",
    "class FeatureExtracter(TransformerMixin):\n",
    "    def fit(self, X, y=None):\n",
    "        return self\n",
    "    def transform(self, X, y=None):\n",
    "        return getAllFeature(X)"
   ]
  },
  {
   "cell_type": "code",
   "execution_count": 11,
   "metadata": {
    "scrolled": true
   },
   "outputs": [],
   "source": [
    "# cleaning training data\n",
    "# train_y_sr\n",
    "# train_X_df\n",
    "\n",
    "# get number từ string\n",
    "train_y_sr = train_y_sr.apply(lambda x: ('K' in x or 'k' in x) *float(re.findall('([0-9.]+)',x)[0])*0.001+\n",
    "                ('M' in x or 'm' in x) *float(re.findall('([0-9.]+)',x)[0]))\n",
    "select_train_row = train_y_sr!=0\n",
    "train_X_df = train_X_df[select_train_row]\n",
    "train_y_sr=train_y_sr[select_train_row]\n"
   ]
  },
  {
   "cell_type": "code",
   "execution_count": 12,
   "metadata": {
    "scrolled": true
   },
   "outputs": [],
   "source": [
    "## preprocessing training data\n",
    "# train_X_np = preprocess_pipeline.fit_transform(train_X_df)\n",
    "# train_y_np=np.array(train_y_sr)"
   ]
  },
  {
   "cell_type": "code",
   "execution_count": 13,
   "metadata": {
    "scrolled": true
   },
   "outputs": [],
   "source": [
    "# cleaning testing data\n",
    "# test_y_sr\n",
    "# test_X_df\n",
    "# Xóa những cầu thủ có value = 0 vì:\n",
    "# 1. những cầu thủ này đã giải nghệ, trong thực tế không có giá trị gì cả \n",
    "# và trong game không tồn tại cầu thủ này\n",
    "# 2.Để việc tính RMSE trên tập test chính xác hơn. \n",
    "\n",
    "test_y_sr = test_y_sr.apply(lambda x: ('K' in x or 'k' in x) *float(re.findall('([0-9.]+)',x)[0])*0.001+\n",
    "                ('M' in x or 'm' in x) *float(re.findall('([0-9.]+)',x)[0]))\n",
    "select_test_row = test_y_sr!=0\n",
    "test_X_df = test_X_df[select_test_row]\n",
    "test_y_sr=test_y_sr[select_test_row]\n"
   ]
  },
  {
   "cell_type": "markdown",
   "metadata": {},
   "source": [
    "---\n",
    "## Sử dụng kỹ thuật Grid Search và K-fold Cross-validation để chọn tham số\n",
    "Lý do chọn k-fold cross validation\n",
    " - Do dữ liệu để học chỉ có vài nghìn row là quá ít cho việc training nên nếu chia quá nhiều cho tập validation thì tập train có quá ít dữ liệu để học và dẫn đến overfitting, do đó tập train phải càng lớn càng tốt, tức là tập validation phải nhỏ. Nhưng điều này lại có thể dẫn đến overfitting với tập training còn lại.\n",
    " - k-fold cross validation giải quyết được vấn đề trên."
   ]
  },
  {
   "cell_type": "markdown",
   "metadata": {},
   "source": [
    "---\n",
    "## Giải thích các siêu tham số cho tree boosting.\n",
    "- early_stopping_rounds: Dừng lại nếu sau 1 số vòng lặp kết quả không cải thiện\n",
    "- n_estimators(mặc định 100): Số lượng  boosted trees để fit.\n",
    "- learning_rate(mặc định 0.1, range=[0,1]): boosting step.\n",
    "- gamma(mặc định 0, range=[0,${\\infty}$]): Minimum loss reduction khi tạo 1 node mới. Gamma cao, regularization cao.\n",
    "- max_depth(mặc định 6, range=[0,${\\infty}$]): Chiều sâu tối đa của cây, max_depth càng cao thì mô hình càng phức tạp.\n",
    "- min_child_weight(mặc định 1, range=[0,${\\infty}$]): Tổng instance weight (hessian) tối thiểu trong 1 node con. min_child_weight chặn các potential feature tương tác với nhau để ngăn overfitting.\n",
    "- subsample(mặc định 1, range=(0,1)): Phần trăm mẫu quan sát được cho mỗi cây.\n",
    "- colsample_bytree(mặc định 1, range=(0,1)): Phần trăm features được lấy cho mỗi cây.\n",
    "- reg_alpha(mặc định: 0): L1 regularization."
   ]
  },
  {
   "cell_type": "markdown",
   "metadata": {},
   "source": [
    "---\n",
    "## Training\n",
    "\n",
    "### Khởi tạo các siêu tham số"
   ]
  },
  {
   "cell_type": "code",
   "execution_count": 14,
   "metadata": {},
   "outputs": [],
   "source": [
    "reg_alpha=0\n",
    "min_child_weight=1\n",
    "max_depth=6\n",
    "learning_rate=0.1 \n",
    "colsample_bytree=0.8\n",
    "subsample=0.8\n",
    "early_stopping_rounds=30\n",
    "gamma=0\n",
    "n_estimators=100\n",
    "early_stopping_rounds=10"
   ]
  },
  {
   "cell_type": "code",
   "execution_count": 15,
   "metadata": {},
   "outputs": [],
   "source": [
    "from sklearn.model_selection import GridSearchCV   #Perforing grid search"
   ]
  },
  {
   "cell_type": "markdown",
   "metadata": {},
   "source": [
    "### Khởi tạo pipeline"
   ]
  },
  {
   "cell_type": "code",
   "execution_count": 16,
   "metadata": {},
   "outputs": [],
   "source": [
    "pipe = Pipeline([(\"feature_extracter\", FeatureExtracter()),\n",
    "                               (\"std_scaler\", StandardScaler()),\n",
    "                               ('xgboost',xgb.XGBRegressor())])"
   ]
  },
  {
   "cell_type": "markdown",
   "metadata": {},
   "source": [
    "### Bước 1: chọn early_stopping_rounds"
   ]
  },
  {
   "cell_type": "markdown",
   "metadata": {},
   "source": [
    "#### Chọn k = 5, random_state = 2504 cho cross validation"
   ]
  },
  {
   "cell_type": "code",
   "execution_count": 17,
   "metadata": {},
   "outputs": [],
   "source": [
    "kfold = KFold(n_splits=5, shuffle=True, random_state=2504)"
   ]
  },
  {
   "cell_type": "code",
   "execution_count": 18,
   "metadata": {},
   "outputs": [
    {
     "name": "stderr",
     "output_type": "stream",
     "text": [
      "C:\\Users\\Huy\\AppData\\Local\\Continuum\\anaconda3\\lib\\site-packages\\sklearn\\preprocessing\\data.py:625: DataConversionWarning: Data with input dtype int64, float64 were all converted to float64 by StandardScaler.\n",
      "  return self.partial_fit(X, y)\n",
      "C:\\Users\\Huy\\AppData\\Local\\Continuum\\anaconda3\\lib\\site-packages\\sklearn\\base.py:465: DataConversionWarning: Data with input dtype int64, float64 were all converted to float64 by StandardScaler.\n",
      "  return self.fit(X, y, **fit_params).transform(X)\n"
     ]
    },
    {
     "name": "stdout",
     "output_type": "stream",
     "text": [
      "{'xgboost__colsample_bytree': 0.8, 'xgboost__early_stopping_rounds': 10, 'xgboost__gamma': 0, 'xgboost__learning_rate': 0.1, 'xgboost__max_depth': 6, 'xgboost__min_child_weight': 1, 'xgboost__n_estimators': 100, 'xgboost__nthread': 4, 'xgboost__objective': 'reg:linear', 'xgboost__silent': 1, 'xgboost__subsample': 0.8} -4.412410166478141\n",
      "Chon early_stopping_rounds=10\n"
     ]
    }
   ],
   "source": [
    "param_test0 = {\n",
    "             'xgboost__early_stopping_rounds':[10,20,50,100],\n",
    "              'xgboost__nthread':[4], \n",
    "              'xgboost__objective':['reg:linear'],\n",
    "              'xgboost__learning_rate': [learning_rate], #so called `eta` value\n",
    "              'xgboost__max_depth': [max_depth],\n",
    "              'xgboost__min_child_weight': [min_child_weight],\n",
    "              'xgboost__silent': [1], # không in \n",
    "               'xgboost__gamma':[gamma],\n",
    "              'xgboost__subsample': [subsample],\n",
    "              'xgboost__colsample_bytree': [colsample_bytree],\n",
    "              'xgboost__n_estimators': [n_estimators]}\n",
    "\n",
    "gsearch0 = GridSearchCV(estimator = pipe, param_grid=param_test0,scoring='neg_mean_squared_error',n_jobs=4,iid=False, cv=kfold)\n",
    "\n",
    "gsearch0.fit(train_X_df,train_y_sr)\n",
    "# in ra kết quả\n",
    "print(gsearch0.best_params_, gsearch0.best_score_)\n",
    "# lưu kết quả vào các biến early_stopping_rounds\n",
    "n_estimators=gsearch0.best_params_['xgboost__early_stopping_rounds']\n",
    "print(\"Chon early_stopping_rounds=%d\"% early_stopping_rounds)"
   ]
  },
  {
   "cell_type": "markdown",
   "metadata": {},
   "source": [
    "### Bước 2: chọn n_estimators"
   ]
  },
  {
   "cell_type": "code",
   "execution_count": 19,
   "metadata": {
    "scrolled": false
   },
   "outputs": [
    {
     "name": "stderr",
     "output_type": "stream",
     "text": [
      "C:\\Users\\Huy\\AppData\\Local\\Continuum\\anaconda3\\lib\\site-packages\\sklearn\\preprocessing\\data.py:625: DataConversionWarning: Data with input dtype int64, float64 were all converted to float64 by StandardScaler.\n",
      "  return self.partial_fit(X, y)\n",
      "C:\\Users\\Huy\\AppData\\Local\\Continuum\\anaconda3\\lib\\site-packages\\sklearn\\base.py:465: DataConversionWarning: Data with input dtype int64, float64 were all converted to float64 by StandardScaler.\n",
      "  return self.fit(X, y, **fit_params).transform(X)\n"
     ]
    },
    {
     "data": {
      "text/plain": [
       "GridSearchCV(cv=KFold(n_splits=5, random_state=2504, shuffle=True),\n",
       "       error_score='raise-deprecating',\n",
       "       estimator=Pipeline(memory=None,\n",
       "     steps=[('feature_extracter', <__main__.FeatureExtracter object at 0x0000025C58D5DE10>), ('std_scaler', StandardScaler(copy=True, with_mean=True, with_std=True)), ('xgboost', XGBRegressor(base_score=0.5, booster='gbtree', colsample_bylevel=1,\n",
       "       colsample_bytree=1, gamma=0, learning_rate=0.1, max...\n",
       "       reg_alpha=0, reg_lambda=1, scale_pos_weight=1, seed=None,\n",
       "       silent=True, subsample=1))]),\n",
       "       fit_params=None, iid=False, n_jobs=4,\n",
       "       param_grid={'xgboost__early_stopping_rounds': [10], 'xgboost__nthread': [4], 'xgboost__objective': ['reg:linear'], 'xgboost__learning_rate': [0.1], 'xgboost__max_depth': [6], 'xgboost__min_child_weight': [1], 'xgboost__silent': [1], 'xgboost__gamma': [0], 'xgboost__subsample': [0.8], 'xgboost__colsample_bytree': [0.8], 'xgboost__n_estimators': [25, 50, 75, 100, 125, 150, 175, 200, 250, 300, 350]},\n",
       "       pre_dispatch='2*n_jobs', refit=True, return_train_score='warn',\n",
       "       scoring='neg_mean_squared_error', verbose=0)"
      ]
     },
     "execution_count": 19,
     "metadata": {},
     "output_type": "execute_result"
    }
   ],
   "source": [
    "param_test0 = {\n",
    "             'xgboost__early_stopping_rounds':[early_stopping_rounds],\n",
    "              'xgboost__nthread':[4], \n",
    "              'xgboost__objective':['reg:linear'],\n",
    "              'xgboost__learning_rate': [learning_rate], #so called `eta` value\n",
    "              'xgboost__max_depth': [max_depth],\n",
    "              'xgboost__min_child_weight': [min_child_weight],\n",
    "              'xgboost__silent': [1], # không in \n",
    "               'xgboost__gamma':[gamma],\n",
    "              'xgboost__subsample': [subsample],\n",
    "              'xgboost__colsample_bytree': [colsample_bytree],\n",
    "              'xgboost__n_estimators': [25,50,75,100,125,150,175,200,250,300,350]}\n",
    "# param_grid ={\n",
    "#     'xgboost': param_test0\n",
    "# }\n",
    "\n",
    "\n",
    "kfold = KFold(n_splits=5, shuffle=True, random_state=2504)\n",
    "gsearch0 = GridSearchCV(estimator = pipe, param_grid=param_test0,scoring='neg_mean_squared_error',n_jobs=4,iid=False, cv=kfold)\n",
    "\n",
    "gsearch0.fit(train_X_df,train_y_sr)"
   ]
  },
  {
   "cell_type": "code",
   "execution_count": 20,
   "metadata": {
    "scrolled": true
   },
   "outputs": [
    {
     "data": {
      "text/plain": [
       "({'xgboost__colsample_bytree': 0.8,\n",
       "  'xgboost__early_stopping_rounds': 10,\n",
       "  'xgboost__gamma': 0,\n",
       "  'xgboost__learning_rate': 0.1,\n",
       "  'xgboost__max_depth': 6,\n",
       "  'xgboost__min_child_weight': 1,\n",
       "  'xgboost__n_estimators': 50,\n",
       "  'xgboost__nthread': 4,\n",
       "  'xgboost__objective': 'reg:linear',\n",
       "  'xgboost__silent': 1,\n",
       "  'xgboost__subsample': 0.8},\n",
       " -4.233279144009956)"
      ]
     },
     "execution_count": 20,
     "metadata": {},
     "output_type": "execute_result"
    }
   ],
   "source": [
    "# in ra kết quả\n",
    "gsearch0.best_params_, gsearch0.best_score_"
   ]
  },
  {
   "cell_type": "code",
   "execution_count": 21,
   "metadata": {
    "scrolled": false
   },
   "outputs": [
    {
     "name": "stdout",
     "output_type": "stream",
     "text": [
      "Chon n_estimators=50\n"
     ]
    }
   ],
   "source": [
    "# lưu kết quả vào các biến n_estimators\n",
    "n_estimators=gsearch0.best_params_['xgboost__n_estimators']\n",
    "print(\"Chon n_estimators=%d\"% n_estimators)"
   ]
  },
  {
   "cell_type": "markdown",
   "metadata": {},
   "source": [
    "### Bước 3: Chọn max_depth, min_child_weight"
   ]
  },
  {
   "cell_type": "code",
   "execution_count": 22,
   "metadata": {},
   "outputs": [
    {
     "name": "stderr",
     "output_type": "stream",
     "text": [
      "C:\\Users\\Huy\\AppData\\Local\\Continuum\\anaconda3\\lib\\site-packages\\sklearn\\preprocessing\\data.py:625: DataConversionWarning: Data with input dtype int64, float64 were all converted to float64 by StandardScaler.\n",
      "  return self.partial_fit(X, y)\n",
      "C:\\Users\\Huy\\AppData\\Local\\Continuum\\anaconda3\\lib\\site-packages\\sklearn\\base.py:465: DataConversionWarning: Data with input dtype int64, float64 were all converted to float64 by StandardScaler.\n",
      "  return self.fit(X, y, **fit_params).transform(X)\n"
     ]
    },
    {
     "data": {
      "text/plain": [
       "GridSearchCV(cv=KFold(n_splits=5, random_state=2504, shuffle=True),\n",
       "       error_score='raise-deprecating',\n",
       "       estimator=Pipeline(memory=None,\n",
       "     steps=[('feature_extracter', <__main__.FeatureExtracter object at 0x0000025C58D5DE10>), ('std_scaler', StandardScaler(copy=True, with_mean=True, with_std=True)), ('xgboost', XGBRegressor(base_score=0.5, booster='gbtree', colsample_bylevel=1,\n",
       "       colsample_bytree=1, gamma=0, learning_rate=0.1, max...\n",
       "       reg_alpha=0, reg_lambda=1, scale_pos_weight=1, seed=None,\n",
       "       silent=True, subsample=1))]),\n",
       "       fit_params=None, iid=False, n_jobs=4,\n",
       "       param_grid={'xgboost__nthread': [4], 'xgboost__early_stopping_rounds': [10], 'xgboost__objective': ['reg:linear'], 'xgboost__learning_rate': [0.1], 'xgboost__max_depth': range(3, 10, 2), 'xgboost__min_child_weight': range(1, 6, 2), 'xgboost__silent': [1], 'xgboost__gamma': [0], 'xgboost__subsample': [0.8], 'xgboost__colsample_bytree': [0.8], 'xgboost__n_estimators': [50]},\n",
       "       pre_dispatch='2*n_jobs', refit=True, return_train_score='warn',\n",
       "       scoring='neg_mean_squared_error', verbose=0)"
      ]
     },
     "execution_count": 22,
     "metadata": {},
     "output_type": "execute_result"
    }
   ],
   "source": [
    "param_test1 = {'xgboost__nthread':[4],\n",
    "                'xgboost__early_stopping_rounds':[early_stopping_rounds],\n",
    "              'xgboost__objective':['reg:linear'],\n",
    "              'xgboost__learning_rate': [learning_rate], #so called `eta` value\n",
    "              'xgboost__max_depth': range(3,10,2),\n",
    "              'xgboost__min_child_weight': range(1,6,2),\n",
    "              'xgboost__silent': [1], # không in \n",
    "               'xgboost__gamma':[gamma],\n",
    "              'xgboost__subsample': [subsample],\n",
    "              'xgboost__colsample_bytree': [colsample_bytree],\n",
    "              'xgboost__n_estimators': [n_estimators]}\n",
    "\n",
    "gsearch1 = GridSearchCV(estimator = pipe, scoring='neg_mean_squared_error',param_grid = param_test1,n_jobs=4,iid=False, cv=kfold)\n",
    "gsearch1.fit(train_X_df,train_y_sr)\n"
   ]
  },
  {
   "cell_type": "code",
   "execution_count": 23,
   "metadata": {
    "scrolled": false
   },
   "outputs": [
    {
     "data": {
      "text/plain": [
       "({'xgboost__colsample_bytree': 0.8,\n",
       "  'xgboost__early_stopping_rounds': 10,\n",
       "  'xgboost__gamma': 0,\n",
       "  'xgboost__learning_rate': 0.1,\n",
       "  'xgboost__max_depth': 7,\n",
       "  'xgboost__min_child_weight': 5,\n",
       "  'xgboost__n_estimators': 50,\n",
       "  'xgboost__nthread': 4,\n",
       "  'xgboost__objective': 'reg:linear',\n",
       "  'xgboost__silent': 1,\n",
       "  'xgboost__subsample': 0.8},\n",
       " -4.06037431375647)"
      ]
     },
     "execution_count": 23,
     "metadata": {},
     "output_type": "execute_result"
    }
   ],
   "source": [
    "# In ra kết quả\n",
    "gsearch1.best_params_, gsearch1.best_score_"
   ]
  },
  {
   "cell_type": "code",
   "execution_count": 24,
   "metadata": {},
   "outputs": [
    {
     "name": "stdout",
     "output_type": "stream",
     "text": [
      "Chon max_depth=7, chon min_child_weight=5\n"
     ]
    }
   ],
   "source": [
    "# Lưu kết quả vào các biến max_depth min_child_weight\n",
    "max_depth=gsearch1.best_params_['xgboost__max_depth']\n",
    "min_child_weight=gsearch1.best_params_['xgboost__min_child_weight']\n",
    "print(\"Chon max_depth=%d, chon min_child_weight=%d\"% (max_depth,min_child_weight))"
   ]
  },
  {
   "cell_type": "markdown",
   "metadata": {},
   "source": [
    "### Bước 4: Chọn gamma để chống overfitting"
   ]
  },
  {
   "cell_type": "code",
   "execution_count": 25,
   "metadata": {
    "scrolled": false
   },
   "outputs": [
    {
     "name": "stderr",
     "output_type": "stream",
     "text": [
      "C:\\Users\\Huy\\AppData\\Local\\Continuum\\anaconda3\\lib\\site-packages\\sklearn\\preprocessing\\data.py:625: DataConversionWarning: Data with input dtype int64, float64 were all converted to float64 by StandardScaler.\n",
      "  return self.partial_fit(X, y)\n",
      "C:\\Users\\Huy\\AppData\\Local\\Continuum\\anaconda3\\lib\\site-packages\\sklearn\\base.py:465: DataConversionWarning: Data with input dtype int64, float64 were all converted to float64 by StandardScaler.\n",
      "  return self.fit(X, y, **fit_params).transform(X)\n"
     ]
    },
    {
     "data": {
      "text/plain": [
       "({'xgboost__colsample_bytree': 0.8,\n",
       "  'xgboost__early_stopping_rounds': 10,\n",
       "  'xgboost__gamma': 0.0,\n",
       "  'xgboost__learning_rate': 0.1,\n",
       "  'xgboost__max_depth': 7,\n",
       "  'xgboost__min_child_weight': 5,\n",
       "  'xgboost__n_estimators': 50,\n",
       "  'xgboost__nthread': 4,\n",
       "  'xgboost__objective': 'reg:linear',\n",
       "  'xgboost__silent': 1,\n",
       "  'xgboost__subsample': 0.8},\n",
       " -4.06037431375647)"
      ]
     },
     "execution_count": 25,
     "metadata": {},
     "output_type": "execute_result"
    }
   ],
   "source": [
    "param_test2 = {'xgboost__nthread':[4], \n",
    "              'xgboost__objective':['reg:linear'],\n",
    "              'xgboost__early_stopping_rounds':[early_stopping_rounds],\n",
    "              'xgboost__learning_rate': [learning_rate], #so called `eta` value\n",
    "              'xgboost__max_depth': [max_depth],\n",
    "              'xgboost__min_child_weight': [min_child_weight],\n",
    "              'xgboost__silent': [1], # không in \n",
    "               'xgboost__gamma':[i/10.0 for i in range(0,5)],\n",
    "              'xgboost__subsample': [subsample],\n",
    "              'xgboost__colsample_bytree': [colsample_bytree],\n",
    "              'xgboost__n_estimators': [n_estimators]}\n",
    "\n",
    "gsearch2 = GridSearchCV(estimator = pipe, scoring='neg_mean_squared_error',param_grid = param_test2,n_jobs=4,iid=False, cv=kfold)\n",
    "gsearch2.fit(train_X_df,train_y_sr)\n",
    "gsearch2.best_params_, gsearch2.best_score_"
   ]
  },
  {
   "cell_type": "code",
   "execution_count": 26,
   "metadata": {},
   "outputs": [
    {
     "name": "stdout",
     "output_type": "stream",
     "text": [
      "Chon gamma=0.000000\n"
     ]
    }
   ],
   "source": [
    "# Lưu lại gamma\n",
    "gamma=gsearch2.best_params_['xgboost__gamma']\n",
    "print(\"Chon gamma=%f\"%gamma)"
   ]
  },
  {
   "cell_type": "markdown",
   "metadata": {},
   "source": [
    "### Bước 5: Chọn subsample và colsample_bytree"
   ]
  },
  {
   "cell_type": "code",
   "execution_count": 27,
   "metadata": {
    "scrolled": false
   },
   "outputs": [
    {
     "name": "stderr",
     "output_type": "stream",
     "text": [
      "C:\\Users\\Huy\\AppData\\Local\\Continuum\\anaconda3\\lib\\site-packages\\sklearn\\preprocessing\\data.py:625: DataConversionWarning: Data with input dtype int64, float64 were all converted to float64 by StandardScaler.\n",
      "  return self.partial_fit(X, y)\n",
      "C:\\Users\\Huy\\AppData\\Local\\Continuum\\anaconda3\\lib\\site-packages\\sklearn\\base.py:465: DataConversionWarning: Data with input dtype int64, float64 were all converted to float64 by StandardScaler.\n",
      "  return self.fit(X, y, **fit_params).transform(X)\n"
     ]
    },
    {
     "data": {
      "text/plain": [
       "({'xgboost__colsample_bytree': 0.9,\n",
       "  'xgboost__early_stopping_rounds': 10,\n",
       "  'xgboost__gamma': 0.0,\n",
       "  'xgboost__learning_rate': 0.1,\n",
       "  'xgboost__max_depth': 7,\n",
       "  'xgboost__min_child_weight': 5,\n",
       "  'xgboost__n_estimators': 50,\n",
       "  'xgboost__nthread': 4,\n",
       "  'xgboost__objective': 'reg:linear',\n",
       "  'xgboost__silent': 1,\n",
       "  'xgboost__subsample': 0.6},\n",
       " -3.3323003490653287)"
      ]
     },
     "execution_count": 27,
     "metadata": {},
     "output_type": "execute_result"
    }
   ],
   "source": [
    "param_test4 = {\n",
    "            'xgboost__nthread':[4], \n",
    "              'xgboost__objective':['reg:linear'],\n",
    "                'xgboost__early_stopping_rounds':[early_stopping_rounds],\n",
    "              'xgboost__learning_rate': [learning_rate], #so called `eta` value\n",
    "              'xgboost__max_depth': [max_depth],\n",
    "              'xgboost__min_child_weight': [min_child_weight],\n",
    "              'xgboost__silent': [1], # không in \n",
    "              'xgboost__gamma':[gamma],\n",
    "              'xgboost__subsample':[i/10.0 for i in range(3,10)],\n",
    "              'xgboost__colsample_bytree':[i/10.0 for i in range(3,10)],\n",
    "              'xgboost__n_estimators': [n_estimators]\n",
    "}\n",
    "gsearch4 = GridSearchCV(estimator = pipe, scoring='neg_mean_squared_error',param_grid = param_test4,n_jobs=4,iid=False, cv=kfold)\n",
    "gsearch4.fit(train_X_df,train_y_sr)\n",
    "gsearch4.best_params_, gsearch4.best_score_"
   ]
  },
  {
   "cell_type": "code",
   "execution_count": 28,
   "metadata": {},
   "outputs": [
    {
     "name": "stdout",
     "output_type": "stream",
     "text": [
      "Chon subsample=0.600000, colsample_bytree=0.900000\n"
     ]
    }
   ],
   "source": [
    "# Lưu lại colsample_bytree, subsample\n",
    "colsample_bytree=gsearch4.best_params_['xgboost__colsample_bytree']\n",
    "subsample=gsearch4.best_params_['xgboost__subsample']\n",
    "print(\"Chon subsample=%f, colsample_bytree=%f\"%(subsample,colsample_bytree))"
   ]
  },
  {
   "cell_type": "markdown",
   "metadata": {},
   "source": [
    "### Bước 6: Chọn reg_alpha để chống overfitting"
   ]
  },
  {
   "cell_type": "code",
   "execution_count": 29,
   "metadata": {
    "scrolled": false
   },
   "outputs": [
    {
     "name": "stderr",
     "output_type": "stream",
     "text": [
      "C:\\Users\\Huy\\AppData\\Local\\Continuum\\anaconda3\\lib\\site-packages\\sklearn\\preprocessing\\data.py:625: DataConversionWarning: Data with input dtype int64, float64 were all converted to float64 by StandardScaler.\n",
      "  return self.partial_fit(X, y)\n",
      "C:\\Users\\Huy\\AppData\\Local\\Continuum\\anaconda3\\lib\\site-packages\\sklearn\\base.py:465: DataConversionWarning: Data with input dtype int64, float64 were all converted to float64 by StandardScaler.\n",
      "  return self.fit(X, y, **fit_params).transform(X)\n"
     ]
    },
    {
     "data": {
      "text/plain": [
       "({'xgboost__colsample_bytree': 0.9,\n",
       "  'xgboost__early_stopping_rounds': 10,\n",
       "  'xgboost__gamma': 0.0,\n",
       "  'xgboost__learning_rate': 0.1,\n",
       "  'xgboost__max_depth': 7,\n",
       "  'xgboost__min_child_weight': 5,\n",
       "  'xgboost__n_estimators': 50,\n",
       "  'xgboost__nthread': 4,\n",
       "  'xgboost__objective': 'reg:linear',\n",
       "  'xgboost__reg_alpha': 0.01,\n",
       "  'xgboost__silent': 1,\n",
       "  'xgboost__subsample': 0.6},\n",
       " -3.315462896038814)"
      ]
     },
     "execution_count": 29,
     "metadata": {},
     "output_type": "execute_result"
    }
   ],
   "source": [
    "param_test5 = {\n",
    "              'xgboost__nthread':[4], \n",
    "              'xgboost__objective':['reg:linear'],\n",
    "               'xgboost__early_stopping_rounds':[early_stopping_rounds],\n",
    "              'xgboost__learning_rate': [learning_rate], #so called `eta` value\n",
    "              'xgboost__max_depth': [max_depth],\n",
    "              'xgboost__min_child_weight': [min_child_weight],\n",
    "              'xgboost__silent': [1], # không in \n",
    "              'xgboost__gamma':[gamma],\n",
    "              'xgboost__subsample':[subsample],\n",
    "              'xgboost__colsample_bytree':[colsample_bytree],\n",
    "              'xgboost__n_estimators': [n_estimators],\n",
    "             'xgboost__reg_alpha':[1e-5, 1e-2, 0.1, 1, 100]\n",
    "\n",
    "}\n",
    "gsearch5 = GridSearchCV(estimator = pipe, scoring='neg_mean_squared_error',param_grid = param_test5,n_jobs=4,iid=False, cv=kfold)\n",
    "gsearch5.fit(train_X_df,train_y_sr)\n",
    "gsearch5.best_params_, gsearch5.best_score_"
   ]
  },
  {
   "cell_type": "code",
   "execution_count": 30,
   "metadata": {
    "scrolled": true
   },
   "outputs": [
    {
     "name": "stdout",
     "output_type": "stream",
     "text": [
      "Chon reg_alpha=0.010000\n"
     ]
    }
   ],
   "source": [
    "# Lưu lại reg_alpha\n",
    "reg_alpha=gsearch5.best_params_['xgboost__reg_alpha']\n",
    "print(\"Chon reg_alpha=%f\"%reg_alpha)"
   ]
  },
  {
   "cell_type": "markdown",
   "metadata": {},
   "source": [
    "### Bước 7: Chọn learning_rate"
   ]
  },
  {
   "cell_type": "code",
   "execution_count": 31,
   "metadata": {
    "scrolled": false
   },
   "outputs": [
    {
     "name": "stderr",
     "output_type": "stream",
     "text": [
      "C:\\Users\\Huy\\AppData\\Local\\Continuum\\anaconda3\\lib\\site-packages\\sklearn\\preprocessing\\data.py:625: DataConversionWarning: Data with input dtype int64, float64 were all converted to float64 by StandardScaler.\n",
      "  return self.partial_fit(X, y)\n",
      "C:\\Users\\Huy\\AppData\\Local\\Continuum\\anaconda3\\lib\\site-packages\\sklearn\\base.py:465: DataConversionWarning: Data with input dtype int64, float64 were all converted to float64 by StandardScaler.\n",
      "  return self.fit(X, y, **fit_params).transform(X)\n"
     ]
    },
    {
     "data": {
      "text/plain": [
       "({'xgboost__colsample_bytree': 0.9,\n",
       "  'xgboost__early_stopping_rounds': 10,\n",
       "  'xgboost__gamma': 0.0,\n",
       "  'xgboost__learning_rate': 0.1,\n",
       "  'xgboost__max_depth': 7,\n",
       "  'xgboost__min_child_weight': 5,\n",
       "  'xgboost__n_estimators': 50,\n",
       "  'xgboost__nthread': 4,\n",
       "  'xgboost__objective': 'reg:linear',\n",
       "  'xgboost__reg_alpha': 0.01,\n",
       "  'xgboost__silent': 1,\n",
       "  'xgboost__subsample': 0.6},\n",
       " -3.343883973422428)"
      ]
     },
     "execution_count": 31,
     "metadata": {},
     "output_type": "execute_result"
    }
   ],
   "source": [
    "param_test6 = {\n",
    "              'xgboost__nthread':[4], \n",
    "              'xgboost__objective':['reg:linear'],\n",
    "              'xgboost__early_stopping_rounds':[early_stopping_rounds],\n",
    "              'xgboost__learning_rate': [0.01,0.03,0.06,0.09, 0.1,0.11,0.12,0.13,0.15], #so called `eta` value\n",
    "              'xgboost__max_depth': [max_depth],\n",
    "              'xgboost__min_child_weight': [min_child_weight],\n",
    "              'xgboost__silent': [1], # không in \n",
    "              'xgboost__gamma':[gamma],\n",
    "              'xgboost__subsample':[subsample],\n",
    "              'xgboost__colsample_bytree':[colsample_bytree],\n",
    "              'xgboost__n_estimators': [n_estimators],\n",
    "             'xgboost__reg_alpha':[reg_alpha]\n",
    "\n",
    "}\n",
    "gsearch6 = GridSearchCV(estimator = pipe, scoring='neg_mean_squared_error',param_grid = param_test6,n_jobs=4,iid=False, cv=5)\n",
    "gsearch6.fit(train_X_df,train_y_sr)\n",
    "gsearch6.best_params_, gsearch6.best_score_"
   ]
  },
  {
   "cell_type": "code",
   "execution_count": 32,
   "metadata": {},
   "outputs": [
    {
     "name": "stdout",
     "output_type": "stream",
     "text": [
      "Chon learning_rate = 0.1\n"
     ]
    }
   ],
   "source": [
    "learning_rate=gsearch6.best_params_['xgboost__learning_rate']\n",
    "print(\"Chon learning_rate =\",learning_rate)"
   ]
  },
  {
   "cell_type": "code",
   "execution_count": 33,
   "metadata": {},
   "outputs": [
    {
     "name": "stdout",
     "output_type": "stream",
     "text": [
      "Cac tham so lua chon la:\n",
      "reg_alpha: 0.01\n",
      "min_child_weight: 5\n",
      "learning_rate: 0.1\n",
      "subsample: 0.6\n",
      "colsample_bytree: 0.9\n",
      "early_stopping_rounds: 10\n",
      "max_depth: 7\n",
      "gamma: 0.0\n",
      "n_estimators: 50\n"
     ]
    }
   ],
   "source": [
    "print(\"Cac tham so lua chon la:\")\n",
    "print(\"reg_alpha:\",reg_alpha)\n",
    "print(\"min_child_weight:\",min_child_weight)\n",
    "print(\"learning_rate:\",learning_rate)\n",
    "print(\"subsample:\",subsample)\n",
    "print(\"colsample_bytree:\",colsample_bytree)\n",
    "print(\"early_stopping_rounds:\", early_stopping_rounds)\n",
    "print(\"max_depth:\",max_depth)\n",
    "print(\"gamma:\",gamma)\n",
    "print(\"n_estimators:\",n_estimators)"
   ]
  },
  {
   "cell_type": "markdown",
   "metadata": {},
   "source": [
    "---\n",
    "## Tiến hành dự đoán trên tập test"
   ]
  },
  {
   "cell_type": "code",
   "execution_count": 34,
   "metadata": {},
   "outputs": [
    {
     "data": {
      "text/plain": [
       "Pipeline(memory=None,\n",
       "     steps=[('feature_extracter', <__main__.FeatureExtracter object at 0x0000025C58D5DE10>), ('std_scaler', StandardScaler(copy=True, with_mean=True, with_std=True)), ('xgboost', XGBRegressor(base_score=0.5, booster='gbtree', colsample_bylevel=1,\n",
       "       colsample_bytree=0.9, early_stopping_rounds=10, gam...eg_alpha=0.01,\n",
       "       reg_lambda=1, scale_pos_weight=1, seed=None, silent=1,\n",
       "       subsample=0.6))])"
      ]
     },
     "execution_count": 34,
     "metadata": {},
     "output_type": "execute_result"
    }
   ],
   "source": [
    "pipe.set_params(**gsearch6.best_params_)"
   ]
  },
  {
   "cell_type": "code",
   "execution_count": 35,
   "metadata": {},
   "outputs": [
    {
     "name": "stderr",
     "output_type": "stream",
     "text": [
      "C:\\Users\\Huy\\AppData\\Local\\Continuum\\anaconda3\\lib\\site-packages\\sklearn\\preprocessing\\data.py:625: DataConversionWarning: Data with input dtype int64, float64 were all converted to float64 by StandardScaler.\n",
      "  return self.partial_fit(X, y)\n",
      "C:\\Users\\Huy\\AppData\\Local\\Continuum\\anaconda3\\lib\\site-packages\\sklearn\\base.py:465: DataConversionWarning: Data with input dtype int64, float64 were all converted to float64 by StandardScaler.\n",
      "  return self.fit(X, y, **fit_params).transform(X)\n"
     ]
    },
    {
     "data": {
      "text/plain": [
       "Pipeline(memory=None,\n",
       "     steps=[('feature_extracter', <__main__.FeatureExtracter object at 0x0000025C58D5DE10>), ('std_scaler', StandardScaler(copy=True, with_mean=True, with_std=True)), ('xgboost', XGBRegressor(base_score=0.5, booster='gbtree', colsample_bylevel=1,\n",
       "       colsample_bytree=0.9, early_stopping_rounds=10, gam...eg_alpha=0.01,\n",
       "       reg_lambda=1, scale_pos_weight=1, seed=None, silent=1,\n",
       "       subsample=0.6))])"
      ]
     },
     "execution_count": 35,
     "metadata": {},
     "output_type": "execute_result"
    }
   ],
   "source": [
    "pipe.fit(train_X_df,train_y_sr)"
   ]
  },
  {
   "cell_type": "code",
   "execution_count": 36,
   "metadata": {
    "scrolled": true
   },
   "outputs": [
    {
     "name": "stderr",
     "output_type": "stream",
     "text": [
      "C:\\Users\\Huy\\AppData\\Local\\Continuum\\anaconda3\\lib\\site-packages\\sklearn\\pipeline.py:331: DataConversionWarning: Data with input dtype int64, float64 were all converted to float64 by StandardScaler.\n",
      "  Xt = transform.transform(Xt)\n"
     ]
    }
   ],
   "source": [
    "preds=pipe.predict(test_X_df)"
   ]
  },
  {
   "cell_type": "code",
   "execution_count": 37,
   "metadata": {
    "scrolled": true
   },
   "outputs": [],
   "source": [
    "RMSE=np.sqrt(mean_squared_error(preds,test_y_sr))"
   ]
  },
  {
   "cell_type": "code",
   "execution_count": 38,
   "metadata": {},
   "outputs": [
    {
     "name": "stdout",
     "output_type": "stream",
     "text": [
      "RMSE in test =  1.4821670674551988\n"
     ]
    }
   ],
   "source": [
    "print(\"RMSE in test = \",RMSE)"
   ]
  },
  {
   "cell_type": "markdown",
   "metadata": {},
   "source": [
    "---\n",
    "## So sánh với mô hình mặc định của XGBoost"
   ]
  },
  {
   "cell_type": "code",
   "execution_count": 39,
   "metadata": {},
   "outputs": [
    {
     "name": "stderr",
     "output_type": "stream",
     "text": [
      "C:\\Users\\Huy\\AppData\\Local\\Continuum\\anaconda3\\lib\\site-packages\\sklearn\\preprocessing\\data.py:625: DataConversionWarning: Data with input dtype int64, float64 were all converted to float64 by StandardScaler.\n",
      "  return self.partial_fit(X, y)\n",
      "C:\\Users\\Huy\\AppData\\Local\\Continuum\\anaconda3\\lib\\site-packages\\sklearn\\base.py:465: DataConversionWarning: Data with input dtype int64, float64 were all converted to float64 by StandardScaler.\n",
      "  return self.fit(X, y, **fit_params).transform(X)\n"
     ]
    },
    {
     "name": "stdout",
     "output_type": "stream",
     "text": [
      "RMSE in test= 1.6691637376625992\n"
     ]
    },
    {
     "name": "stderr",
     "output_type": "stream",
     "text": [
      "C:\\Users\\Huy\\AppData\\Local\\Continuum\\anaconda3\\lib\\site-packages\\sklearn\\pipeline.py:331: DataConversionWarning: Data with input dtype int64, float64 were all converted to float64 by StandardScaler.\n",
      "  Xt = transform.transform(Xt)\n"
     ]
    }
   ],
   "source": [
    "pipe2 = Pipeline([(\"feature_extracter\", FeatureExtracter()),\n",
    "                               (\"std_scaler\", StandardScaler()),\n",
    "                               ('xgboost',xgb.XGBRegressor())])\n",
    "pipe2.fit(train_X_df,train_y_sr)\n",
    "preds2=pipe2.predict(test_X_df)\n",
    "RMSE2= np.sqrt(mean_squared_error(preds2,test_y_sr))\n",
    "print(\"RMSE in test=\", RMSE2)"
   ]
  },
  {
   "cell_type": "markdown",
   "metadata": {},
   "source": [
    "---\n",
    "## Kết luận\n",
    "Ta thấy độ lỗi RMSE trên tập test sau khi tối ưu tốt hơn là để mặc định"
   ]
  }
 ],
 "metadata": {
  "kernelspec": {
   "display_name": "Python 3",
   "language": "python",
   "name": "python3"
  },
  "language_info": {
   "codemirror_mode": {
    "name": "ipython",
    "version": 3
   },
   "file_extension": ".py",
   "mimetype": "text/x-python",
   "name": "python",
   "nbconvert_exporter": "python",
   "pygments_lexer": "ipython3",
   "version": "3.7.0"
  }
 },
 "nbformat": 4,
 "nbformat_minor": 2
}
