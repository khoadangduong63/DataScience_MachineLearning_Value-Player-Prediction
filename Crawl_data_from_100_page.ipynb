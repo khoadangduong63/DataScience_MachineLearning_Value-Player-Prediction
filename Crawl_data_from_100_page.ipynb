{
 "cells": [
  {
   "cell_type": "markdown",
   "metadata": {},
   "source": [
    "# Thu thập dữ liệu cầu thủ từ Web\n",
    "\n",
    "---\n",
    "## Import thư viện cần thiết"
   ]
  },
  {
   "cell_type": "code",
   "execution_count": 1,
   "metadata": {},
   "outputs": [],
   "source": [
    "import numpy as np\n",
    "import pandas as pd \n",
    "from pandas import DataFrame\n",
    "import re\n",
    "import requests\n",
    "from bs4 import BeautifulSoup\n",
    "import matplotlib.pyplot as plt\n",
    "from bs4 import BeautifulSoup"
   ]
  },
  {
   "cell_type": "code",
   "execution_count": 2,
   "metadata": {},
   "outputs": [],
   "source": [
    "from selenium import webdriver\n",
    "from selenium.webdriver.common.keys import Keys\n",
    "import time"
   ]
  },
  {
   "cell_type": "markdown",
   "metadata": {},
   "source": [
    "---\n",
    "## Click chọn các mục cần thiết từ trang web"
   ]
  },
  {
   "cell_type": "code",
   "execution_count": 3,
   "metadata": {},
   "outputs": [],
   "source": [
    "# Khởi tạo web driver.\n",
    "browser = webdriver.Chrome(executable_path='./chromedriver.exe')\n",
    "browser.get(\"https://sofifa.com/players?offset=0\")\n",
    "time.sleep(10)\n",
    "\n",
    "specials = browser.find_element_by_xpath('//*[@id=\"content-target\"]/div[2]/div[9]/a')\n",
    "specials.click()\n",
    "time.sleep(2)\n",
    "base_stats = browser.find_element_by_xpath('//*[@id=\"content-target\"]/div[2]/div[9]/div/label[2]')\n",
    "base_stats.click()\n",
    "time.sleep(5)\n",
    "\n",
    "specials = browser.find_element_by_xpath('//*[@id=\"content-target\"]/div[2]/div[9]/a')\n",
    "specials.click()\n",
    "time.sleep(2)\n",
    "\n",
    "InternationalReputation = browser.find_element_by_xpath('//*[@id=\"content-target\"]/div[2]/div[9]/div/label[7]')\n",
    "InternationalReputation.click()\n",
    "time.sleep(5)\n",
    "\n",
    "specials = browser.find_element_by_xpath('//*[@id=\"content-target\"]/div[2]/div[9]/a')\n",
    "specials.click()\n",
    "time.sleep(2)\n",
    "\n",
    "PAC = browser.find_element_by_xpath('//*[@id=\"content-target\"]/div[2]/div[9]/div/label[8]')\n",
    "PAC.click()\n",
    "time.sleep(5)\n",
    "\n",
    "\n",
    "\n",
    "specials = browser.find_element_by_xpath('//*[@id=\"content-target\"]/div[2]/div[9]/a')\n",
    "specials.click()\n",
    "time.sleep(2)\n",
    "\n",
    "SHO = browser.find_element_by_xpath('//*[@id=\"content-target\"]/div[2]/div[9]/div/label[9]')\n",
    "SHO.click()\n",
    "time.sleep(5)\n",
    "\n",
    "\n",
    "specials = browser.find_element_by_xpath('//*[@id=\"content-target\"]/div[2]/div[9]/a')\n",
    "specials.click()\n",
    "time.sleep(2)\n",
    "\n",
    "PAS = browser.find_element_by_xpath('//*[@id=\"content-target\"]/div[2]/div[9]/div/label[10]')\n",
    "PAS.click()\n",
    "time.sleep(5)\n",
    "\n",
    "\n",
    "specials = browser.find_element_by_xpath('//*[@id=\"content-target\"]/div[2]/div[9]/a')\n",
    "specials.click()\n",
    "time.sleep(2)\n",
    "\n",
    "DRI = browser.find_element_by_xpath('//*[@id=\"content-target\"]/div[2]/div[9]/div/label[11]')\n",
    "DRI.click()\n",
    "time.sleep(5)\n",
    "\n",
    "\n",
    "specials = browser.find_element_by_xpath('//*[@id=\"content-target\"]/div[2]/div[9]/a')\n",
    "specials.click()\n",
    "time.sleep(2)\n",
    "\n",
    "DEF = browser.find_element_by_xpath('//*[@id=\"content-target\"]/div[2]/div[9]/div/label[12]')\n",
    "DEF.click()\n",
    "time.sleep(5)\n",
    "\n",
    "specials = browser.find_element_by_xpath('//*[@id=\"content-target\"]/div[2]/div[9]/a')\n",
    "specials.click()\n",
    "time.sleep(2)\n",
    "\n",
    "PHY = browser.find_element_by_xpath('//*[@id=\"content-target\"]/div[2]/div[9]/div/label[13]')\n",
    "PHY.click()\n",
    "time.sleep(5)\n"
   ]
  },
  {
   "cell_type": "markdown",
   "metadata": {},
   "source": [
    "---\n",
    "## Thu thập dữ liệu"
   ]
  },
  {
   "cell_type": "code",
   "execution_count": 4,
   "metadata": {},
   "outputs": [],
   "source": [
    "columns = ['ID','Name','Position', 'Overall', 'Potential','BS','IR',\n",
    "          'PAC','SHO','PAS','DRI','DEF','PHY','Value', 'Wage','TotalStats']\n",
    "\n",
    "data = DataFrame(columns = columns) # Tạo DataFrame có các cột như trên\n",
    "for offset in range(100): # Duyệt các page\n",
    "    url =\"https://sofifa.com/players?offset=%s\" % str(offset*60)\n",
    "    browser.get(url)\n",
    "    while(\"No results found.\" in browser.page_source or 'This site can’t be reached' in browser.page_source):\n",
    "        browser.get(url)\n",
    "    soup = BeautifulSoup(browser.page_source, 'html.parser')\n",
    "    table_body = soup.find('tbody') # Lấy thẻ tbody\n",
    "    i=0\n",
    "    for row in table_body.findAll('tr'): # Duyệt các thẻ tr con\n",
    "        # Mỗi thẻ tr chứa thông tin của 1 cầu thủ\n",
    "        td = row.findAll('td')\n",
    "        ID=td[0].find('img').get('id')\n",
    "        position=row.find('div',{'class':'text-ellipsis rtl'}).text\n",
    "        name = td[1].findAll('a')[1].text\n",
    "        overall = td[3].text.strip() # Lấy chỉ số overall\n",
    "        potential = td[4].text.strip()        \n",
    "        value = td[6].text.strip() # Lấy giá trị cầu thủ và loại bỏ \\n\n",
    "        wage=td[7].text.strip() # Lấy lương\n",
    "        totalStats=td[8].text.strip() \n",
    "        BS=td[9].text.strip()\n",
    "        IR=td[10].text.strip()\n",
    "        PAC=td[11].text.strip()\n",
    "        SHO=td[12].text.strip()\n",
    "        PAS=td[13].text.strip()\n",
    "        DRI=td[14].text.strip()\n",
    "        DEF=td[15].text.strip()\n",
    "        PHY=td[16].text.strip()\n",
    "        # Tạo DataFrame từ các attribute đã có\n",
    "        player_data = DataFrame([[ID,name,position,overall,potential,BS,IR,PAC,SHO,PAS,DRI,DEF,PHY,value,wage,totalStats]])\n",
    "        player_data.columns = columns # Đặt tên các cột\n",
    "        data = data.append(player_data, ignore_index=True) # Thêm nó vào data\n",
    "    offset+=1 # Xét trang tiếp theo\n",
    "data = data.drop_duplicates() # Xóa các giá trị bị duplicate"
   ]
  },
  {
   "cell_type": "code",
   "execution_count": 5,
   "metadata": {},
   "outputs": [],
   "source": [
    "browser.quit()"
   ]
  },
  {
   "cell_type": "markdown",
   "metadata": {},
   "source": [
    "---\n",
    "## Ghi ra file"
   ]
  },
  {
   "cell_type": "code",
   "execution_count": 6,
   "metadata": {},
   "outputs": [],
   "source": [
    "data.to_csv('data_100_page.csv',encoding=\"utf-8-sig\")"
   ]
  }
 ],
 "metadata": {
  "kernelspec": {
   "display_name": "Python 3",
   "language": "python",
   "name": "python3"
  },
  "language_info": {
   "codemirror_mode": {
    "name": "ipython",
    "version": 3
   },
   "file_extension": ".py",
   "mimetype": "text/x-python",
   "name": "python",
   "nbconvert_exporter": "python",
   "pygments_lexer": "ipython3",
   "version": "3.7.0"
  }
 },
 "nbformat": 4,
 "nbformat_minor": 2
}
